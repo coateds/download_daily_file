{
    "metadata": {
        "kernelspec": {
            "name": "python3",
            "display_name": "Python 3 (ipykernel)",
            "language": "python"
        },
        "language_info": {
            "name": "python",
            "version": "3.10.4",
            "mimetype": "text/x-python",
            "codemirror_mode": {
                "name": "ipython",
                "version": 3
            },
            "pygments_lexer": "ipython3",
            "nbconvert_exporter": "python",
            "file_extension": ".py"
        }
    },
    "nbformat_minor": 2,
    "nbformat": 4,
    "cells": [
        {
            "cell_type": "code",
            "source": [
                "import pandas as pd\r\n",
                "\r\n",
                "url = 'https://raw.githubusercontent.com/lukes/ISO-3166-Countries-with-Regional-Codes/master/all/all.csv'\r\n",
                "df = pd.read_csv(url, index_col=0)\r\n",
                "\r\n",
                "df.head()"
            ],
            "metadata": {
                "azdata_cell_guid": "2629b9c6-4f33-4e2d-863c-d148deca52ef",
                "language": "python",
                "tags": []
            },
            "outputs": [],
            "execution_count": null
        },
        {
            "cell_type": "code",
            "source": [
                "import random\r\n",
                "\r\n",
                "file_name = str(int(random.random()*10000)) + \"_df.csv\"\r\n",
                "\r\n",
                "df.to_csv(file_name,index=False)"
            ],
            "metadata": {
                "azdata_cell_guid": "848b1859-ec36-4b92-b2bc-e30fe5f6c993",
                "language": "python"
            },
            "outputs": [],
            "execution_count": 13
        }
    ]
}